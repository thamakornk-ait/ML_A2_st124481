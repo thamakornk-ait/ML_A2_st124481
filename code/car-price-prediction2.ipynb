{
 "cells": [
  {
   "cell_type": "markdown",
   "metadata": {},
   "source": [
    "## Assignment2 Car Price Prediction (Cont.)\n"
   ]
  },
  {
   "cell_type": "markdown",
   "metadata": {},
   "source": [
    "Chaky's Company would like to predict the car price for cars that will be made in the future. As an data scientist, I was assigned to implemented web-based car price prediction system. According to the information, this problem is cinsidered as a regression problem since I would like to predict selling price which is continuouse values.\n",
    "<br></br>\n",
    "The followings describe the features.\n",
    "- name: brand of cars\n",
    "- year\n",
    "- selling price: in Baht\n",
    "- km driven: kilometers of a car that have driven\n",
    "- fuel: Diesel and Petrol\n",
    "- transmission\n",
    "- owner\n",
    "- mileage\n",
    "-engine\n",
    "- max power\n",
    "- torque\n",
    "- seats"
   ]
  },
  {
   "cell_type": "code",
   "execution_count": 1,
   "metadata": {},
   "outputs": [],
   "source": [
    "#import necessary libraries\n",
    "import numpy as np\n",
    "import pandas as pd\n",
    "import seaborn as sns\n",
    "import matplotlib.pyplot as plt \n",
    "import warnings\n",
    "from sklearn.preprocessing import LabelEncoder\n",
    "warnings.filterwarnings('ignore')"
   ]
  },
  {
   "cell_type": "markdown",
   "metadata": {},
   "source": [
    "## load data"
   ]
  },
  {
   "cell_type": "code",
   "execution_count": 2,
   "metadata": {},
   "outputs": [],
   "source": [
    "df = pd.read_csv(\"Cars.csv\")"
   ]
  },
  {
   "cell_type": "code",
   "execution_count": 3,
   "metadata": {},
   "outputs": [
    {
     "data": {
      "text/html": [
       "<div>\n",
       "<style scoped>\n",
       "    .dataframe tbody tr th:only-of-type {\n",
       "        vertical-align: middle;\n",
       "    }\n",
       "\n",
       "    .dataframe tbody tr th {\n",
       "        vertical-align: top;\n",
       "    }\n",
       "\n",
       "    .dataframe thead th {\n",
       "        text-align: right;\n",
       "    }\n",
       "</style>\n",
       "<table border=\"1\" class=\"dataframe\">\n",
       "  <thead>\n",
       "    <tr style=\"text-align: right;\">\n",
       "      <th></th>\n",
       "      <th>name</th>\n",
       "      <th>year</th>\n",
       "      <th>selling_price</th>\n",
       "      <th>km_driven</th>\n",
       "      <th>fuel</th>\n",
       "      <th>seller_type</th>\n",
       "      <th>transmission</th>\n",
       "      <th>owner</th>\n",
       "      <th>mileage</th>\n",
       "      <th>engine</th>\n",
       "      <th>max_power</th>\n",
       "      <th>torque</th>\n",
       "      <th>seats</th>\n",
       "    </tr>\n",
       "  </thead>\n",
       "  <tbody>\n",
       "    <tr>\n",
       "      <th>0</th>\n",
       "      <td>Maruti Swift Dzire VDI</td>\n",
       "      <td>2014</td>\n",
       "      <td>450000</td>\n",
       "      <td>145500</td>\n",
       "      <td>Diesel</td>\n",
       "      <td>Individual</td>\n",
       "      <td>Manual</td>\n",
       "      <td>First Owner</td>\n",
       "      <td>23.4 kmpl</td>\n",
       "      <td>1248 CC</td>\n",
       "      <td>74 bhp</td>\n",
       "      <td>190Nm@ 2000rpm</td>\n",
       "      <td>5.0</td>\n",
       "    </tr>\n",
       "    <tr>\n",
       "      <th>1</th>\n",
       "      <td>Skoda Rapid 1.5 TDI Ambition</td>\n",
       "      <td>2014</td>\n",
       "      <td>370000</td>\n",
       "      <td>120000</td>\n",
       "      <td>Diesel</td>\n",
       "      <td>Individual</td>\n",
       "      <td>Manual</td>\n",
       "      <td>Second Owner</td>\n",
       "      <td>21.14 kmpl</td>\n",
       "      <td>1498 CC</td>\n",
       "      <td>103.52 bhp</td>\n",
       "      <td>250Nm@ 1500-2500rpm</td>\n",
       "      <td>5.0</td>\n",
       "    </tr>\n",
       "    <tr>\n",
       "      <th>2</th>\n",
       "      <td>Honda City 2017-2020 EXi</td>\n",
       "      <td>2006</td>\n",
       "      <td>158000</td>\n",
       "      <td>140000</td>\n",
       "      <td>Petrol</td>\n",
       "      <td>Individual</td>\n",
       "      <td>Manual</td>\n",
       "      <td>Third Owner</td>\n",
       "      <td>17.7 kmpl</td>\n",
       "      <td>1497 CC</td>\n",
       "      <td>78 bhp</td>\n",
       "      <td>12.7@ 2,700(kgm@ rpm)</td>\n",
       "      <td>5.0</td>\n",
       "    </tr>\n",
       "    <tr>\n",
       "      <th>3</th>\n",
       "      <td>Hyundai i20 Sportz Diesel</td>\n",
       "      <td>2010</td>\n",
       "      <td>225000</td>\n",
       "      <td>127000</td>\n",
       "      <td>Diesel</td>\n",
       "      <td>Individual</td>\n",
       "      <td>Manual</td>\n",
       "      <td>First Owner</td>\n",
       "      <td>23.0 kmpl</td>\n",
       "      <td>1396 CC</td>\n",
       "      <td>90 bhp</td>\n",
       "      <td>22.4 kgm at 1750-2750rpm</td>\n",
       "      <td>5.0</td>\n",
       "    </tr>\n",
       "    <tr>\n",
       "      <th>4</th>\n",
       "      <td>Maruti Swift VXI BSIII</td>\n",
       "      <td>2007</td>\n",
       "      <td>130000</td>\n",
       "      <td>120000</td>\n",
       "      <td>Petrol</td>\n",
       "      <td>Individual</td>\n",
       "      <td>Manual</td>\n",
       "      <td>First Owner</td>\n",
       "      <td>16.1 kmpl</td>\n",
       "      <td>1298 CC</td>\n",
       "      <td>88.2 bhp</td>\n",
       "      <td>11.5@ 4,500(kgm@ rpm)</td>\n",
       "      <td>5.0</td>\n",
       "    </tr>\n",
       "  </tbody>\n",
       "</table>\n",
       "</div>"
      ],
      "text/plain": [
       "                           name  year  selling_price  km_driven    fuel  \\\n",
       "0        Maruti Swift Dzire VDI  2014         450000     145500  Diesel   \n",
       "1  Skoda Rapid 1.5 TDI Ambition  2014         370000     120000  Diesel   \n",
       "2      Honda City 2017-2020 EXi  2006         158000     140000  Petrol   \n",
       "3     Hyundai i20 Sportz Diesel  2010         225000     127000  Diesel   \n",
       "4        Maruti Swift VXI BSIII  2007         130000     120000  Petrol   \n",
       "\n",
       "  seller_type transmission         owner     mileage   engine   max_power  \\\n",
       "0  Individual       Manual   First Owner   23.4 kmpl  1248 CC      74 bhp   \n",
       "1  Individual       Manual  Second Owner  21.14 kmpl  1498 CC  103.52 bhp   \n",
       "2  Individual       Manual   Third Owner   17.7 kmpl  1497 CC      78 bhp   \n",
       "3  Individual       Manual   First Owner   23.0 kmpl  1396 CC      90 bhp   \n",
       "4  Individual       Manual   First Owner   16.1 kmpl  1298 CC    88.2 bhp   \n",
       "\n",
       "                     torque  seats  \n",
       "0            190Nm@ 2000rpm    5.0  \n",
       "1       250Nm@ 1500-2500rpm    5.0  \n",
       "2     12.7@ 2,700(kgm@ rpm)    5.0  \n",
       "3  22.4 kgm at 1750-2750rpm    5.0  \n",
       "4     11.5@ 4,500(kgm@ rpm)    5.0  "
      ]
     },
     "execution_count": 3,
     "metadata": {},
     "output_type": "execute_result"
    }
   ],
   "source": [
    "#show the table\n",
    "df.head()"
   ]
  },
  {
   "cell_type": "code",
   "execution_count": 4,
   "metadata": {},
   "outputs": [
    {
     "data": {
      "text/plain": [
       "(8128, 13)"
      ]
     },
     "execution_count": 4,
     "metadata": {},
     "output_type": "execute_result"
    }
   ],
   "source": [
    "# Check the shape of your data\n",
    "df.shape"
   ]
  },
  {
   "cell_type": "markdown",
   "metadata": {},
   "source": [
    "It means this table consist of 8128 samples, and 12 features"
   ]
  },
  {
   "cell_type": "code",
   "execution_count": 5,
   "metadata": {},
   "outputs": [
    {
     "data": {
      "text/html": [
       "<div>\n",
       "<style scoped>\n",
       "    .dataframe tbody tr th:only-of-type {\n",
       "        vertical-align: middle;\n",
       "    }\n",
       "\n",
       "    .dataframe tbody tr th {\n",
       "        vertical-align: top;\n",
       "    }\n",
       "\n",
       "    .dataframe thead th {\n",
       "        text-align: right;\n",
       "    }\n",
       "</style>\n",
       "<table border=\"1\" class=\"dataframe\">\n",
       "  <thead>\n",
       "    <tr style=\"text-align: right;\">\n",
       "      <th></th>\n",
       "      <th>year</th>\n",
       "      <th>selling_price</th>\n",
       "      <th>km_driven</th>\n",
       "      <th>seats</th>\n",
       "    </tr>\n",
       "  </thead>\n",
       "  <tbody>\n",
       "    <tr>\n",
       "      <th>count</th>\n",
       "      <td>8128.000000</td>\n",
       "      <td>8.128000e+03</td>\n",
       "      <td>8.128000e+03</td>\n",
       "      <td>7907.000000</td>\n",
       "    </tr>\n",
       "    <tr>\n",
       "      <th>mean</th>\n",
       "      <td>2013.804011</td>\n",
       "      <td>6.382718e+05</td>\n",
       "      <td>6.981951e+04</td>\n",
       "      <td>5.416719</td>\n",
       "    </tr>\n",
       "    <tr>\n",
       "      <th>std</th>\n",
       "      <td>4.044249</td>\n",
       "      <td>8.062534e+05</td>\n",
       "      <td>5.655055e+04</td>\n",
       "      <td>0.959588</td>\n",
       "    </tr>\n",
       "    <tr>\n",
       "      <th>min</th>\n",
       "      <td>1983.000000</td>\n",
       "      <td>2.999900e+04</td>\n",
       "      <td>1.000000e+00</td>\n",
       "      <td>2.000000</td>\n",
       "    </tr>\n",
       "    <tr>\n",
       "      <th>25%</th>\n",
       "      <td>2011.000000</td>\n",
       "      <td>2.549990e+05</td>\n",
       "      <td>3.500000e+04</td>\n",
       "      <td>5.000000</td>\n",
       "    </tr>\n",
       "    <tr>\n",
       "      <th>50%</th>\n",
       "      <td>2015.000000</td>\n",
       "      <td>4.500000e+05</td>\n",
       "      <td>6.000000e+04</td>\n",
       "      <td>5.000000</td>\n",
       "    </tr>\n",
       "    <tr>\n",
       "      <th>75%</th>\n",
       "      <td>2017.000000</td>\n",
       "      <td>6.750000e+05</td>\n",
       "      <td>9.800000e+04</td>\n",
       "      <td>5.000000</td>\n",
       "    </tr>\n",
       "    <tr>\n",
       "      <th>max</th>\n",
       "      <td>2020.000000</td>\n",
       "      <td>1.000000e+07</td>\n",
       "      <td>2.360457e+06</td>\n",
       "      <td>14.000000</td>\n",
       "    </tr>\n",
       "  </tbody>\n",
       "</table>\n",
       "</div>"
      ],
      "text/plain": [
       "              year  selling_price     km_driven        seats\n",
       "count  8128.000000   8.128000e+03  8.128000e+03  7907.000000\n",
       "mean   2013.804011   6.382718e+05  6.981951e+04     5.416719\n",
       "std       4.044249   8.062534e+05  5.655055e+04     0.959588\n",
       "min    1983.000000   2.999900e+04  1.000000e+00     2.000000\n",
       "25%    2011.000000   2.549990e+05  3.500000e+04     5.000000\n",
       "50%    2015.000000   4.500000e+05  6.000000e+04     5.000000\n",
       "75%    2017.000000   6.750000e+05  9.800000e+04     5.000000\n",
       "max    2020.000000   1.000000e+07  2.360457e+06    14.000000"
      ]
     },
     "execution_count": 5,
     "metadata": {},
     "output_type": "execute_result"
    }
   ],
   "source": [
    "# Statistical info Hint: look up .describe()\n",
    "df.describe()\n"
   ]
  },
  {
   "cell_type": "code",
   "execution_count": 6,
   "metadata": {},
   "outputs": [
    {
     "name": "stdout",
     "output_type": "stream",
     "text": [
      "<class 'pandas.core.frame.DataFrame'>\n",
      "RangeIndex: 8128 entries, 0 to 8127\n",
      "Data columns (total 13 columns):\n",
      " #   Column         Non-Null Count  Dtype  \n",
      "---  ------         --------------  -----  \n",
      " 0   name           8128 non-null   object \n",
      " 1   year           8128 non-null   int64  \n",
      " 2   selling_price  8128 non-null   int64  \n",
      " 3   km_driven      8128 non-null   int64  \n",
      " 4   fuel           8128 non-null   object \n",
      " 5   seller_type    8128 non-null   object \n",
      " 6   transmission   8128 non-null   object \n",
      " 7   owner          8128 non-null   object \n",
      " 8   mileage        7907 non-null   object \n",
      " 9   engine         7907 non-null   object \n",
      " 10  max_power      7913 non-null   object \n",
      " 11  torque         7906 non-null   object \n",
      " 12  seats          7907 non-null   float64\n",
      "dtypes: float64(1), int64(3), object(9)\n",
      "memory usage: 825.6+ KB\n"
     ]
    }
   ],
   "source": [
    "# Check Dtypes of your input data\n",
    "df.info()\n"
   ]
  },
  {
   "cell_type": "markdown",
   "metadata": {},
   "source": [
    "Many features are needed to change data type from object to numerical types so that I will be able to use features to predict selling price. "
   ]
  },
  {
   "cell_type": "code",
   "execution_count": 7,
   "metadata": {},
   "outputs": [
    {
     "data": {
      "text/plain": [
       "Index(['name', 'year', 'selling_price', 'km_driven', 'fuel', 'seller_type',\n",
       "       'transmission', 'owner', 'mileage', 'engine', 'max_power', 'torque',\n",
       "       'seats'],\n",
       "      dtype='object')"
      ]
     },
     "execution_count": 7,
     "metadata": {},
     "output_type": "execute_result"
    }
   ],
   "source": [
    "# Check the column names\n",
    "df.columns"
   ]
  },
  {
   "cell_type": "markdown",
   "metadata": {},
   "source": [
    "## Exploratory Data Analysis"
   ]
  },
  {
   "cell_type": "markdown",
   "metadata": {},
   "source": [
    "I rearranged data according to requiements of Chaky's Company"
   ]
  },
  {
   "cell_type": "markdown",
   "metadata": {},
   "source": [
    "-univariate analysis\n",
    "-multivariate analysis\n",
    "(later)"
   ]
  },
  {
   "cell_type": "code",
   "execution_count": 8,
   "metadata": {},
   "outputs": [
    {
     "data": {
      "text/plain": [
       "array(['First Owner', 'Second Owner', 'Third Owner',\n",
       "       'Fourth & Above Owner', 'Test Drive Car'], dtype=object)"
      ]
     },
     "execution_count": 8,
     "metadata": {},
     "output_type": "execute_result"
    }
   ],
   "source": [
    "#check data in the feature owner\n",
    "df['owner'].unique()"
   ]
  },
  {
   "cell_type": "code",
   "execution_count": 9,
   "metadata": {},
   "outputs": [],
   "source": [
    "#For the feature owner, map First Owner to 1, ..., Test Drive Car to 5\n",
    "\n",
    "# Using Dictionary for mapping\n",
    "dict_map = {'First Owner': 1,\n",
    "    'Second Owner': 2, 'Third Owner' :3, 'Fourth & Above Owner' :4, 'Test Drive Car':5}\n",
    "updateOwner = df['owner'].map(dict_map)\n",
    "df['owner'] = updateOwner"
   ]
  },
  {
   "cell_type": "code",
   "execution_count": 10,
   "metadata": {},
   "outputs": [],
   "source": [
    "#For the feature fuel, remove all rows with CNG and LPG\n",
    "df = df[df[\"fuel\"].str.contains(\"CNG|LPG\") == False]"
   ]
  },
  {
   "cell_type": "code",
   "execution_count": 11,
   "metadata": {},
   "outputs": [],
   "source": [
    "#For the featurre mileage, remove \"kmpl\" and convert the column to float\n",
    "df['mileage'] = df['mileage'].str.replace('kmpl', '').astype(float)"
   ]
  },
  {
   "cell_type": "code",
   "execution_count": 12,
   "metadata": {},
   "outputs": [],
   "source": [
    "#For the feature engine, remove \"CC\" and convert the column to float\n",
    "df['engine'] = df['engine'].str.replace('CC', '').astype(float)"
   ]
  },
  {
   "cell_type": "code",
   "execution_count": 13,
   "metadata": {},
   "outputs": [],
   "source": [
    "#For the feature max power, remove \"bhp\" and convert the column to float\n",
    "df['max_power'] = df['max_power'].str.replace('bhp', '').astype(float)"
   ]
  },
  {
   "cell_type": "code",
   "execution_count": 14,
   "metadata": {},
   "outputs": [],
   "source": [
    "#For the feature brand, take only the first word and remove the rest\n",
    "\n",
    "updateBrand = df['name'].str.split().str.get(0)\n",
    "df['name'] = updateBrand"
   ]
  },
  {
   "cell_type": "code",
   "execution_count": 15,
   "metadata": {},
   "outputs": [],
   "source": [
    "#Drop the feature torque since Chaky's company does not understand the kind of information\n",
    "df =df.drop(columns=[\"torque\"])"
   ]
  },
  {
   "cell_type": "code",
   "execution_count": 16,
   "metadata": {},
   "outputs": [],
   "source": [
    "#Delete all sample related to Test Drive Cars because they are too expensive so that Chaky's company doesn't interested\n",
    "df = df.loc[df[\"owner\"] != 5 ]"
   ]
  },
  {
   "cell_type": "code",
   "execution_count": 17,
   "metadata": {},
   "outputs": [
    {
     "data": {
      "text/plain": [
       "array(['Diesel', 'Petrol'], dtype=object)"
      ]
     },
     "execution_count": 17,
     "metadata": {},
     "output_type": "execute_result"
    }
   ],
   "source": [
    "#list unique values in the column fuel, and the data contains of 2 types of fuel which are Dissel and Petrol\n",
    "df['fuel'].unique()"
   ]
  },
  {
   "cell_type": "markdown",
   "metadata": {},
   "source": [
    "Next, I will convert categorical type of features in to numerical so that I can develop prdict system using these features."
   ]
  },
  {
   "cell_type": "code",
   "execution_count": 18,
   "metadata": {},
   "outputs": [],
   "source": [
    "#use label encoding to covert fuel types to numbers\n",
    "le = LabelEncoder()\n",
    "df['fuel'] = le.fit_transform(df['fuel'])\n",
    "df['fuel'] = le.fit_transform(df['fuel'])\n"
   ]
  },
  {
   "cell_type": "code",
   "execution_count": 19,
   "metadata": {},
   "outputs": [
    {
     "data": {
      "text/plain": [
       "array(['Individual', 'Dealer', 'Trustmark Dealer'], dtype=object)"
      ]
     },
     "execution_count": 19,
     "metadata": {},
     "output_type": "execute_result"
    }
   ],
   "source": [
    "#list unique values in the column seller_type, and the data contains of 3 types of sellers which are Individual, Dealer, and Trutmark Dealer\n",
    "df['seller_type'].unique()"
   ]
  },
  {
   "cell_type": "code",
   "execution_count": 20,
   "metadata": {},
   "outputs": [],
   "source": [
    "#use label encoding to covert seller types to numbers\n",
    "df['seller_type'] = le.fit_transform(df['seller_type'])\n",
    "df['seller_type'] = le.fit_transform(df['seller_type'])\n"
   ]
  },
  {
   "cell_type": "code",
   "execution_count": 21,
   "metadata": {},
   "outputs": [
    {
     "data": {
      "text/plain": [
       "array(['Manual', 'Automatic'], dtype=object)"
      ]
     },
     "execution_count": 21,
     "metadata": {},
     "output_type": "execute_result"
    }
   ],
   "source": [
    "#list unique values in the column transmission, and the data contains of 2 types of transmission which are Munual, and Automatic\n",
    "df['transmission'].unique()"
   ]
  },
  {
   "cell_type": "code",
   "execution_count": 22,
   "metadata": {},
   "outputs": [],
   "source": [
    "#use label encoding to covert transmission categories to numbers\n",
    "df['transmission'] = le.fit_transform(df['transmission'])\n",
    "df['transmission'] = le.fit_transform(df['transmission'])"
   ]
  },
  {
   "cell_type": "code",
   "execution_count": 23,
   "metadata": {},
   "outputs": [],
   "source": [
    "#use label encoding to covert brands to numbers\n",
    "df['name'] = le.fit_transform(df['name'])\n",
    "df['name'] = le.fit_transform(df['name'])"
   ]
  },
  {
   "cell_type": "code",
   "execution_count": 24,
   "metadata": {},
   "outputs": [],
   "source": [
    "#transform selling price using log transform because big number can cause prediction to be unstable\n",
    "df['selling_price'] = np.log(df[\"selling_price\"])"
   ]
  },
  {
   "cell_type": "code",
   "execution_count": 25,
   "metadata": {},
   "outputs": [
    {
     "data": {
      "text/html": [
       "<div>\n",
       "<style scoped>\n",
       "    .dataframe tbody tr th:only-of-type {\n",
       "        vertical-align: middle;\n",
       "    }\n",
       "\n",
       "    .dataframe tbody tr th {\n",
       "        vertical-align: top;\n",
       "    }\n",
       "\n",
       "    .dataframe thead th {\n",
       "        text-align: right;\n",
       "    }\n",
       "</style>\n",
       "<table border=\"1\" class=\"dataframe\">\n",
       "  <thead>\n",
       "    <tr style=\"text-align: right;\">\n",
       "      <th></th>\n",
       "      <th>name</th>\n",
       "      <th>year</th>\n",
       "      <th>selling_price</th>\n",
       "      <th>km_driven</th>\n",
       "      <th>fuel</th>\n",
       "      <th>seller_type</th>\n",
       "      <th>transmission</th>\n",
       "      <th>owner</th>\n",
       "      <th>mileage</th>\n",
       "      <th>engine</th>\n",
       "      <th>max_power</th>\n",
       "      <th>seats</th>\n",
       "    </tr>\n",
       "  </thead>\n",
       "  <tbody>\n",
       "    <tr>\n",
       "      <th>0</th>\n",
       "      <td>20</td>\n",
       "      <td>2014</td>\n",
       "      <td>13.017003</td>\n",
       "      <td>145500</td>\n",
       "      <td>0</td>\n",
       "      <td>1</td>\n",
       "      <td>1</td>\n",
       "      <td>1</td>\n",
       "      <td>23.40</td>\n",
       "      <td>1248.0</td>\n",
       "      <td>74.00</td>\n",
       "      <td>5.0</td>\n",
       "    </tr>\n",
       "    <tr>\n",
       "      <th>1</th>\n",
       "      <td>27</td>\n",
       "      <td>2014</td>\n",
       "      <td>12.821258</td>\n",
       "      <td>120000</td>\n",
       "      <td>0</td>\n",
       "      <td>1</td>\n",
       "      <td>1</td>\n",
       "      <td>2</td>\n",
       "      <td>21.14</td>\n",
       "      <td>1498.0</td>\n",
       "      <td>103.52</td>\n",
       "      <td>5.0</td>\n",
       "    </tr>\n",
       "    <tr>\n",
       "      <th>2</th>\n",
       "      <td>10</td>\n",
       "      <td>2006</td>\n",
       "      <td>11.970350</td>\n",
       "      <td>140000</td>\n",
       "      <td>1</td>\n",
       "      <td>1</td>\n",
       "      <td>1</td>\n",
       "      <td>3</td>\n",
       "      <td>17.70</td>\n",
       "      <td>1497.0</td>\n",
       "      <td>78.00</td>\n",
       "      <td>5.0</td>\n",
       "    </tr>\n",
       "    <tr>\n",
       "      <th>3</th>\n",
       "      <td>11</td>\n",
       "      <td>2010</td>\n",
       "      <td>12.323856</td>\n",
       "      <td>127000</td>\n",
       "      <td>0</td>\n",
       "      <td>1</td>\n",
       "      <td>1</td>\n",
       "      <td>1</td>\n",
       "      <td>23.00</td>\n",
       "      <td>1396.0</td>\n",
       "      <td>90.00</td>\n",
       "      <td>5.0</td>\n",
       "    </tr>\n",
       "    <tr>\n",
       "      <th>4</th>\n",
       "      <td>20</td>\n",
       "      <td>2007</td>\n",
       "      <td>11.775290</td>\n",
       "      <td>120000</td>\n",
       "      <td>1</td>\n",
       "      <td>1</td>\n",
       "      <td>1</td>\n",
       "      <td>1</td>\n",
       "      <td>16.10</td>\n",
       "      <td>1298.0</td>\n",
       "      <td>88.20</td>\n",
       "      <td>5.0</td>\n",
       "    </tr>\n",
       "  </tbody>\n",
       "</table>\n",
       "</div>"
      ],
      "text/plain": [
       "   name  year  selling_price  km_driven  fuel  seller_type  transmission  \\\n",
       "0    20  2014      13.017003     145500     0            1             1   \n",
       "1    27  2014      12.821258     120000     0            1             1   \n",
       "2    10  2006      11.970350     140000     1            1             1   \n",
       "3    11  2010      12.323856     127000     0            1             1   \n",
       "4    20  2007      11.775290     120000     1            1             1   \n",
       "\n",
       "   owner  mileage  engine  max_power  seats  \n",
       "0      1    23.40  1248.0      74.00    5.0  \n",
       "1      2    21.14  1498.0     103.52    5.0  \n",
       "2      3    17.70  1497.0      78.00    5.0  \n",
       "3      1    23.00  1396.0      90.00    5.0  \n",
       "4      1    16.10  1298.0      88.20    5.0  "
      ]
     },
     "execution_count": 25,
     "metadata": {},
     "output_type": "execute_result"
    }
   ],
   "source": [
    "#After adjust the data follow the requirements, show the adjusted data\n",
    "df.head()"
   ]
  },
  {
   "cell_type": "markdown",
   "metadata": {},
   "source": [
    "##  Feature selection"
   ]
  },
  {
   "cell_type": "markdown",
   "metadata": {},
   "source": [
    "For feature selection, I used the same features as A1 which are max_power, mileage, year "
   ]
  },
  {
   "cell_type": "markdown",
   "metadata": {},
   "source": [
    "### Train test split"
   ]
  },
  {
   "cell_type": "code",
   "execution_count": 28,
   "metadata": {},
   "outputs": [],
   "source": [
    "#x is our strong features\n",
    "X = df[['max_power', 'mileage',  'year']]\n",
    "\n",
    "#y is selling price column which I would like to predict\n",
    "y = df[\"selling_price\"]\n",
    "\n",
    "m = X.shape[0]  #number of samples\n",
    "n = X.shape[1]  #number of features"
   ]
  },
  {
   "cell_type": "code",
   "execution_count": 29,
   "metadata": {},
   "outputs": [],
   "source": [
    "#split data into train and test set with ratio 70:30, and choose random state = 42\n",
    "from sklearn.model_selection import train_test_split\n",
    "\n",
    "X_train, X_test, y_train, y_test = train_test_split(X, y, test_size = 0.3, random_state = 42)\n",
    "\n",
    "#convert into array\n",
    "y_train = y_train.to_numpy()\n",
    "y_test = y_test.to_numpy()"
   ]
  },
  {
   "cell_type": "markdown",
   "metadata": {},
   "source": [
    "## Preprocessing"
   ]
  },
  {
   "cell_type": "markdown",
   "metadata": {},
   "source": [
    "### Null values"
   ]
  },
  {
   "cell_type": "code",
   "execution_count": 30,
   "metadata": {},
   "outputs": [
    {
     "data": {
      "text/plain": [
       "max_power    149\n",
       "mileage      154\n",
       "year           0\n",
       "dtype: int64"
      ]
     },
     "execution_count": 30,
     "metadata": {},
     "output_type": "execute_result"
    }
   ],
   "source": [
    "#check for null values for X_trrain\n",
    "X_train[['max_power', 'mileage',  'year']].isna().sum()"
   ]
  },
  {
   "cell_type": "code",
   "execution_count": 31,
   "metadata": {},
   "outputs": [
    {
     "data": {
      "text/plain": [
       "max_power    59\n",
       "mileage      60\n",
       "year          0\n",
       "dtype: int64"
      ]
     },
     "execution_count": 31,
     "metadata": {},
     "output_type": "execute_result"
    }
   ],
   "source": [
    "#check for null values for X_test\n",
    "X_test[['max_power', 'mileage',  'year']].isna().sum()"
   ]
  },
  {
   "cell_type": "markdown",
   "metadata": {},
   "source": [
    "To conclude, this data has missing information on amx_power and mileage so I have to find which imputation method I should replace null values."
   ]
  },
  {
   "cell_type": "code",
   "execution_count": 32,
   "metadata": {},
   "outputs": [
    {
     "data": {
      "text/plain": [
       "<Axes: xlabel='max_power'>"
      ]
     },
     "execution_count": 32,
     "metadata": {},
     "output_type": "execute_result"
    },
    {
     "data": {
      "image/png": "[encoded data removed]",
      "text/plain": [
       "<Figure size 640x480 with 1 Axes>"
      ]
     },
     "metadata": {},
     "output_type": "display_data"
    }
   ],
   "source": [
    "#use boxplot to see distribution of max power values\n",
    "sns.boxplot(data=df, x='max_power')"
   ]
  },
  {
   "cell_type": "markdown",
   "metadata": {},
   "source": [
    "It seems like there are many outliers. Therefore, mean is not a good way to replace null values so that I replace them with median instead"
   ]
  },
  {
   "cell_type": "code",
   "execution_count": 33,
   "metadata": {},
   "outputs": [
    {
     "data": {
      "text/plain": [
       "<seaborn.axisgrid.FacetGrid at 0x7f1bd5443220>"
      ]
     },
     "execution_count": 33,
     "metadata": {},
     "output_type": "execute_result"
    },
    {
     "data": {
      "image/png": "[encoded data removed]",
      "text/plain": [
       "<Figure size 500x500 with 1 Axes>"
      ]
     },
     "metadata": {},
     "output_type": "display_data"
    }
   ],
   "source": [
    "#use distribution plot to see data distribution of mileage\n",
    "sns.displot(data=df, x= 'mileage')"
   ]
  },
  {
   "cell_type": "markdown",
   "metadata": {},
   "source": [
    "The data look like a normal distribution. Therefore, mean is a good way to replace null values."
   ]
  },
  {
   "cell_type": "code",
   "execution_count": 34,
   "metadata": {},
   "outputs": [],
   "source": [
    "#fill the training set \n",
    "\n",
    "X_train['max_power'].fillna(X_train['max_power'].median(), inplace=True)\n",
    "X_train['mileage'].fillna(X_train['mileage'].mean(), inplace=True)\n"
   ]
  },
  {
   "cell_type": "code",
   "execution_count": 35,
   "metadata": {},
   "outputs": [],
   "source": [
    "#fill the testing set with the training distribution \n",
    "\n",
    "X_test['max_power'].fillna(X_train['max_power'].median(), inplace=True)\n",
    "X_test['mileage'].fillna(X_train['mileage'].mean(), inplace=True)"
   ]
  },
  {
   "cell_type": "code",
   "execution_count": 36,
   "metadata": {},
   "outputs": [
    {
     "data": {
      "text/plain": [
       "max_power    0\n",
       "mileage      0\n",
       "year         0\n",
       "dtype: int64"
      ]
     },
     "execution_count": 36,
     "metadata": {},
     "output_type": "execute_result"
    }
   ],
   "source": [
    "#check null values to make sure that there is no null values left\n",
    "X_train[['max_power', 'mileage', 'year']].isna().sum()"
   ]
  },
  {
   "cell_type": "code",
   "execution_count": 37,
   "metadata": {},
   "outputs": [
    {
     "data": {
      "text/plain": [
       "max_power    0\n",
       "mileage      0\n",
       "year         0\n",
       "dtype: int64"
      ]
     },
     "execution_count": 37,
     "metadata": {},
     "output_type": "execute_result"
    }
   ],
   "source": [
    "X_test[['max_power', 'mileage',  'year']].isna().sum()"
   ]
  },
  {
   "cell_type": "code",
   "execution_count": 40,
   "metadata": {},
   "outputs": [],
   "source": [
    "from sklearn.preprocessing import StandardScaler\n",
    "scaler = StandardScaler()\n",
    "X_train[['year','mileage','max_power']] = scaler.fit_transform(X_train[['year','mileage','max_power']])\n",
    "X_test[['year','mileage','max_power']]  = scaler.transform(X_test[['year','mileage','max_power']])"
   ]
  },
  {
   "cell_type": "markdown",
   "metadata": {},
   "source": [
    "## Modeling\n",
    "\n"
   ]
  },
  {
   "cell_type": "markdown",
   "metadata": {},
   "source": [
    "In the experiment, I will perform using MLflow"
   ]
  },
  {
   "cell_type": "code",
   "execution_count": 1,
   "metadata": {},
   "outputs": [
    {
     "data": {
      "text/plain": [
       "<Experiment: artifact_location='mlflow-artifacts:/618279163567556626', creation_time=1694507618131, experiment_id='618279163567556626', last_update_time=1694507618131, lifecycle_stage='active', name='a2_experiment_v2', tags={}>"
      ]
     },
     "execution_count": 1,
     "metadata": {},
     "output_type": "execute_result"
    }
   ],
   "source": [
    "#experiment tracking\n",
    "import mlflow\n",
    "import os\n",
    "# This the dockerized method.\n",
    "# We build two docker containers, one for python/jupyter and another for mlflow.\n",
    "# The url `mlflow` is resolved into another container within the same composer.\n",
    "mlflow.set_tracking_uri(\"http://mlflow:5000\")\n",
    "# In the dockerized way, the user who runs this code will be `root`.\n",
    "# The MLflow will also log the run user_id as `root`.\n",
    "# To change that, we need to set this environ[\"LOGNAME\"] to your name.\n",
    "os.environ[\"LOGNAME\"] = \"thamakorn\"\n",
    "#mlflow.create_experiment(name=\"chaky-diabetes-example\")  #create if you haven't create\n",
    "mlflow.set_experiment(experiment_name=\"a2_experiment_v2\")"
   ]
  },
  {
   "cell_type": "code",
   "execution_count": 42,
   "metadata": {},
   "outputs": [],
   "source": [
    "\n",
    "intercept = np.ones((X_train.shape[0], 1))\n",
    "X_train   = np.concatenate((intercept, X_train), axis=1)\n",
    "intercept = np.ones((X_test.shape[0], 1))\n",
    "X_test    = np.concatenate((intercept, X_test), axis=1)"
   ]
  },
  {
   "cell_type": "code",
   "execution_count": 43,
   "metadata": {},
   "outputs": [],
   "source": [
    "from sklearn.model_selection import KFold\n",
    "\n",
    "class LinearRegression(object):\n",
    "    \n",
    "    #cross validation\n",
    "    kfold = KFold(n_splits=3)\n",
    "            \n",
    "    def __init__(self, regularization, lr=0.001, method='batch',initweight ='zero', momentum = 0, num_epochs=50, batch_size=50, cv=kfold):\n",
    "        self.lr         = lr\n",
    "        self.num_epochs = num_epochs\n",
    "        self.batch_size = batch_size\n",
    "        self.method     = method\n",
    "        self.cv         = cv\n",
    "        self.regularization = regularization\n",
    "        self.initweight     = initweight\n",
    "        self.momentum = momentum\n",
    "\n",
    "    def mse(self, ytrue, ypred):\n",
    "        return ((ypred - ytrue) ** 2).sum() / ytrue.shape[0]\n",
    "\n",
    "    def mse_sto(self, ytrue, ypred):\n",
    "        return ((ypred - ytrue) ** 2).sum()\n",
    "    \n",
    "    def fit(self, X_train, y_train):\n",
    "            \n",
    "        #create a list of kfold scores\n",
    "        self.kfold_scores = list()\n",
    "\n",
    "        #create a list of kfold r2\n",
    "        self.r2_scores = list()\n",
    "        \n",
    "        #reset val loss\n",
    "        self.val_loss_old = np.infty\n",
    "\n",
    "        #kfold.split in the sklearn.....\n",
    "        #5 splits\n",
    "        for fold, (train_idx, val_idx) in enumerate(self.cv.split(X_train)):\n",
    "            \n",
    "            X_cross_train = X_train[train_idx]\n",
    "            y_cross_train = y_train[train_idx]\n",
    "            X_cross_val   = X_train[val_idx]\n",
    "            y_cross_val   = y_train[val_idx]\n",
    "            \n",
    "            \n",
    "\n",
    "            if self.initweight == 'zero':\n",
    "                self.theta = np.zeros(X_cross_train.shape[1])\n",
    "            elif self.initweight == 'xavier':\n",
    "                #m is number of samples\n",
    "                m = X_cross_train.shape[0]\n",
    "                #range\n",
    "                lower, upper = -(1.0 / np.sqrt(m)), (1.0 / np.sqrt(m))\n",
    "                #generate random numbers\n",
    "                num = np.random.rand(X_cross_train.shape[1])\n",
    "\n",
    "                self.theta = lower + num *(upper - lower)\n",
    "            #print(self.theta)\n",
    "            #reset previous gradient\n",
    "            self.prev_grad = np.zeros(X_cross_train.shape[1])\n",
    "            \n",
    "            #define X_cross_train as only a subset of the data\n",
    "            #how big is this subset?  => mini-batch size ==> 50\n",
    "            \n",
    "            #one epoch will exhaust the WHOLE training set\n",
    "            with mlflow.start_run(run_name=f\"Fold-{fold}\", nested=True):\n",
    "                \n",
    "                params = {\"method\": self.method, \"lr\": self.lr, \"reg\": type(self).__name__ , \"initweight\": self.initweight, \"momentum\": self.momentum}\n",
    "                mlflow.log_params(params=params)\n",
    "                \n",
    "                for epoch in range(self.num_epochs):\n",
    "                \n",
    "                    #with replacement or no replacement\n",
    "                    #with replacement means just randomize\n",
    "                    #with no replacement means 0:50, 51:100, 101:150, ......300:323\n",
    "                    #shuffle your index\n",
    "                    perm = np.random.permutation(X_cross_train.shape[0])\n",
    "                            \n",
    "                    X_cross_train = X_cross_train[perm]\n",
    "                    y_cross_train = y_cross_train[perm]\n",
    "                    \n",
    "                    if self.method == 'sto':\n",
    "                        for batch_idx in range(X_cross_train.shape[0]):\n",
    "                            X_method_train = X_cross_train[batch_idx].reshape(1, -1) #(11,) ==> (1, 11) ==> (m, n)\n",
    "                            y_method_train = y_cross_train[batch_idx] \n",
    "                            train_loss = self._train_sto(X_method_train, y_method_train)\n",
    "                    elif self.method == 'mini':\n",
    "                        for batch_idx in range(0, X_cross_train.shape[0], self.batch_size):\n",
    "                            #batch_idx = 0, 50, 100, 150\n",
    "                            X_method_train = X_cross_train[batch_idx:batch_idx+self.batch_size, :]\n",
    "                            y_method_train = y_cross_train[batch_idx:batch_idx+self.batch_size]\n",
    "                            train_loss = self._train(X_method_train, y_method_train)\n",
    "                    else:\n",
    "                        X_method_train = X_cross_train\n",
    "                        y_method_train = y_cross_train\n",
    "                        train_loss = self._train(X_method_train, y_method_train)\n",
    "\n",
    "                    mlflow.log_metric(key=\"train_loss\", value=train_loss, step=epoch)\n",
    "\n",
    "                    yhat_val = self.predict(X_cross_val)\n",
    "                    val_loss_new = self.mse(y_cross_val, yhat_val)\n",
    "                    r2 = self.r2(y_cross_val, yhat_val)\n",
    "                    mlflow.log_metric(key=\"val_loss\", value=val_loss_new, step=epoch)\n",
    "                    mlflow.log_metric(key=\"r2\", value=r2, step=epoch)\n",
    "                    \n",
    "                    \n",
    "                    #early stopping\n",
    "                    if np.allclose(val_loss_new, self.val_loss_old):\n",
    "                        break\n",
    "                    self.val_loss_old = val_loss_new\n",
    "            \n",
    "                self.kfold_scores.append(val_loss_new)\n",
    "                self.r2_scores.append(r2)\n",
    "                print(f\"Fold {fold}: mse: {val_loss_new} r2: {r2}\")\n",
    "        print(f\"mean of mse: {sum(self.kfold_scores) / len(self.kfold_scores)}\")    \n",
    "        print(f\"mean of r2: {sum(self.r2_scores) / len(self.r2_scores)}\")\n",
    "        for i, theta in enumerate(self.theta[1:]):\n",
    "            mlflow.log_metric(key=f\"weight-{i}\", value=theta)\n",
    "        \n",
    "        mlflow.log_metric(key=\"Mean mse\", value=sum(self.kfold_scores) / len(self.kfold_scores))\n",
    "        mlflow.log_metric(key=\"Mean rsquare\", value=sum(self.r2_scores) / len(self.r2_scores))\n",
    "        params = {\"method\": self.method, \"lr\": self.lr, \"reg\": type(self).__name__, \"weight\": self.initweight, \"momentum\": self.momentum}\n",
    "        mlflow.log_params(params=params)\n",
    "            \n",
    "                    \n",
    "    def _train(self, X, y):\n",
    "        yhat = self.predict(X)\n",
    "        m    = X.shape[0]        \n",
    "        grad = (1/m) * X.T @(yhat - y) + self.regularization.derivation(self.theta)\n",
    "        self.theta = self.theta - (self.lr * grad) + self.momentum*self.prev_grad       # with momentum when momentum not equal 0\n",
    "        self.prev_grad = grad\n",
    "        return self.mse(y, yhat)\n",
    "\n",
    "    # train function for sto \n",
    "\n",
    "    def _train_sto(self, X, y):   \n",
    "        yhat = self.predict(X)\n",
    "        m    = X.shape[0]    \n",
    "        grad = (1/m) * X.T@(yhat - y) + self.regularization.derivation(self.theta)\n",
    "        self.theta = self.theta - (self.lr * grad) + self.momentum*self.prev_grad\n",
    "        self.prev_grad = grad\n",
    "        return self.mse_sto(y, yhat)\n",
    "\n",
    "    \n",
    "    \n",
    "    def predict(self, X):\n",
    "        return X @ self.theta  #===>(m, n) @ (n, )\n",
    "    \n",
    "    def _coef(self):\n",
    "        return self.theta[1:]  #remind that theta is (w0, w1, w2, w3, w4.....wn)\n",
    "                               #w0 is the bias or the intercept\n",
    "                               #w1....wn are the weights / coefficients / theta\n",
    "    def _bias(self):\n",
    "        return self.theta[0]\n",
    "\n",
    "    #task1 implementation\n",
    "    def r2(self, ytrue, ypred):\n",
    "         # Calculate mean of the true target values\n",
    "        mean_y_true = np.mean(ytrue)\n",
    "    \n",
    "        # Calculate total sum of squares \n",
    "        tss = np.sum((ytrue - mean_y_true)**2)\n",
    "    \n",
    "        # Calculate residual sum of squares \n",
    "        rss = np.sum((ytrue - ypred)**2)\n",
    "    \n",
    "        # Calculate R^2\n",
    "        r_squared = 1 - (rss / tss)\n",
    "    \n",
    "        return r_squared\n",
    "    \n",
    "    "
   ]
  },
  {
   "cell_type": "code",
   "execution_count": 44,
   "metadata": {},
   "outputs": [],
   "source": [
    "class LassoPenalty:\n",
    "    \n",
    "    def __init__(self, l):\n",
    "        self.l = l # lambda value\n",
    "        \n",
    "    def __call__(self, theta): #__call__ allows us to call class as method\n",
    "        return self.l * np.sum(np.abs(theta))\n",
    "        \n",
    "    def derivation(self, theta):\n",
    "        return self.l * np.sign(theta)\n",
    "    \n",
    "class RidgePenalty:\n",
    "    \n",
    "    def __init__(self, l):\n",
    "        self.l = l\n",
    "        \n",
    "    def __call__(self, theta): #__call__ allows us to call class as method\n",
    "        return self.l * np.sum(np.square(theta))\n",
    "        \n",
    "    def derivation(self, theta):\n",
    "        return self.l * 2 * theta\n",
    "\n",
    "class NormalPenalty:\n",
    "\n",
    "    def __init__(self, l):\n",
    "        self.l = l\n",
    "        \n",
    "    def __call__(self, theta): #__call__ allows us to call class as method\n",
    "        return 0\n",
    "        \n",
    "    def derivation(self, theta):\n",
    "        return 0\n",
    "    \n",
    "\n",
    "class Lasso(LinearRegression):\n",
    "    \n",
    "    def __init__(self, method, initweight,momentum, lr, l):\n",
    "        self.regularization = LassoPenalty(l)\n",
    "        super().__init__(self.regularization, lr, method,initweight,momentum)\n",
    "        \n",
    "class Ridge(LinearRegression):\n",
    "    \n",
    "    def __init__(self, method,initweight,momentum, lr, l):\n",
    "        self.regularization = RidgePenalty(l)\n",
    "        super().__init__(self.regularization,lr, method,initweight,momentum)\n",
    "\n",
    "class Normal(LinearRegression):\n",
    "    \n",
    "    def __init__(self, method,initweight,momentum, lr, l):\n",
    "        self.regularization = NormalPenalty(l)\n",
    "        super().__init__(self.regularization,lr, method,initweight,momentum)\n",
    "        \n"
   ]
  },
  {
   "cell_type": "code",
   "execution_count": 45,
   "metadata": {},
   "outputs": [],
   "source": [
    "#helper function for looping classnames\n",
    "import sys\n",
    "\n",
    "def str_to_class(classname):\n",
    "    return getattr(sys.modules[__name__], classname)"
   ]
  },
  {
   "cell_type": "code",
   "execution_count": null,
   "metadata": {},
   "outputs": [
    {
     "name": "stdout",
     "output_type": "stream",
     "text": [
      "===== Ridge sto zero 0.01 =====\n",
      "Fold 0: mse: 4.871609245079955 r2: -6.095461369044749\n",
      "Fold 1: mse: 4.861750194180044 r2: -5.721866010313126\n",
      "Fold 2: mse: 4.856270456139915 r2: -5.99325560503997\n",
      "mean of mse: 4.863209965133304\n",
      "mean of r2: -5.936860994799281\n",
      "===== Ridge sto zero 0.001 =====\n",
      "Fold 0: mse: 4.818277914211674 r2: -6.017784696122386\n",
      "Fold 1: mse: 4.7708377838898235 r2: -5.596170321263323\n",
      "Fold 2: mse: 4.781848324078968 r2: -5.8860842691609685\n",
      "mean of mse: 4.790321340726822\n",
      "mean of r2: -5.833346428848892\n",
      "===== Ridge sto zero 0.0001 =====\n",
      "Fold 0: mse: 4.874002629063566 r2: -6.098947314395179\n",
      "Fold 1: mse: 4.778384000655094 r2: -5.6066037363823575\n",
      "Fold 2: mse: 4.784346894364174 r2: -5.889682326725803\n",
      "mean of mse: 4.812244508027611\n",
      "mean of r2: -5.865077792501114\n",
      "===== Ridge sto zero 0.01 =====\n",
      "Fold 0: mse: 5.364112131549235 r2: -6.812788032429151\n",
      "Fold 1: mse: 4.638600831667635 r2: -5.413339233908443\n",
      "Fold 2: mse: 4.987407223173155 r2: -6.182098656382497\n",
      "mean of mse: 4.996706728796674\n",
      "mean of r2: -6.136075307573364\n",
      "===== Ridge sto zero 0.001 =====\n",
      "Fold 0: mse: 4.823172405081843 r2: -6.024913484402257\n",
      "Fold 1: mse: 4.757416667896452 r2: -5.577614258155781\n",
      "Fold 2: mse: 4.78529179839814 r2: -5.891043032537277\n",
      "mean of mse: 4.788626957125478\n",
      "mean of r2: -5.831190258365105\n",
      "===== Ridge sto zero 0.0001 =====\n",
      "Fold 0: mse: 4.878303722228274 r2: -6.1052118234843835\n",
      "Fold 1: mse: 4.779793213431553 r2: -5.608552116921268\n",
      "Fold 2: mse: 4.786932791097779 r2: -5.893406138442977\n",
      "mean of mse: 4.815009908919202\n",
      "mean of r2: -5.869056692949543\n",
      "===== Ridge sto xavier 0.01 =====\n",
      "Fold 0: mse: 4.944439506102138 r2: -6.201538083654454\n",
      "Fold 1: mse: 4.945200395728434 r2: -5.837244433913212\n",
      "Fold 2: mse: 4.85006995224431 r2: -5.984326590683449\n",
      "mean of mse: 4.9132366180249605\n",
      "mean of r2: -6.007703036083705\n",
      "===== Ridge sto xavier 0.001 =====\n",
      "Fold 0: mse: 4.879419684787388 r2: -6.106837214362252\n",
      "Fold 1: mse: 4.776558447690537 r2: -5.604079723026596\n",
      "Fold 2: mse: 4.763567297080904 r2: -5.859758738967636\n",
      "mean of mse: 4.806515143186276\n",
      "mean of r2: -5.856891892118828\n",
      "===== Ridge sto xavier 0.0001 =====\n",
      "Fold 0: mse: 4.878302702966568 r2: -6.105210338937553\n",
      "Fold 1: mse: 4.779851037743183 r2: -5.608632064935746\n",
      "Fold 2: mse: 4.783268476750733 r2: -5.888129355142387\n",
      "mean of mse: 4.813807405820161\n",
      "mean of r2: -5.867323919671896\n",
      "===== Ridge sto xavier 0.01 =====\n",
      "Fold 0: mse: 4.980744537199355 r2: -6.254416082010424\n",
      "Fold 1: mse: 4.744594752678833 r2: -5.5598866512969165\n",
      "Fold 2: mse: 4.8807330163281595 r2: -6.028482830890576\n",
      "mean of mse: 4.8686907687354495\n",
      "mean of r2: -5.947595188065972\n",
      "===== Ridge sto xavier 0.001 =====\n",
      "Fold 0: mse: 4.92016771469619 r2: -6.1661864062898655\n",
      "Fold 1: mse: 4.766141151530353 r2: -5.589676747517421\n",
      "Fold 2: mse: 4.770835945691648 r2: -5.870225931455624\n",
      "mean of mse: 4.819048270639397\n",
      "mean of r2: -5.875363028420971\n",
      "===== Ridge sto xavier 0.0001 =====\n",
      "Fold 0: mse: 4.875774215046613 r2: -6.101527615743723\n",
      "Fold 1: mse: 4.781523147191206 r2: -5.610943926963878\n",
      "Fold 2: mse: 4.7824185755666555 r2: -5.886905457858873\n",
      "mean of mse: 4.813238645934825\n",
      "mean of r2: -5.866459000188825\n",
      "===== Ridge mini zero 0.01 =====\n",
      "Fold 0: mse: 4.878821229782328 r2: -6.105965569253645\n",
      "Fold 1: mse: 4.793154799495026 r2: -5.627025873822938\n",
      "Fold 2: mse: 4.7806408629537085 r2: -5.884345468911197\n",
      "mean of mse: 4.817538964077021\n",
      "mean of r2: -5.87244563732926\n",
      "===== Ridge mini zero 0.001 =====\n",
      "Fold 0: mse: 5.416683380833918 r2: -6.889357652375294\n",
      "Fold 1: mse: 5.315061088618356 r2: -6.348614603253418\n",
      "Fold 2: mse: 5.317248129368893 r2: -6.657084921430489\n",
      "mean of mse: 5.349664199607055\n",
      "mean of r2: -6.6316857256864\n",
      "===== Ridge mini zero 0.0001 =====\n",
      "Fold 0: mse: 82.79743105485633 r2: -119.59382104572654\n",
      "Fold 1: mse: 82.31820279024805 r2: -112.81331974403375\n",
      "Fold 2: mse: 82.4199627245808 r2: -117.68858447991137\n",
      "mean of mse: 82.5118655232284\n",
      "mean of r2: -116.69857508989055\n",
      "===== Ridge mini zero 0.01 =====\n",
      "Fold 0: mse: 4.877586168187656 r2: -6.104166711547182\n",
      "Fold 1: mse: 4.783789362436495 r2: -5.614077200912751\n",
      "Fold 2: mse: 4.779249093034763 r2: -5.882341255415574\n",
      "mean of mse: 4.813541541219638\n",
      "mean of r2: -5.86686172262517\n",
      "===== Ridge mini zero 0.001 =====\n",
      "Fold 0: mse: 5.442061287369757 r2: -6.926320377912884\n",
      "Fold 1: mse: 5.339916660408651 r2: -6.382979968916195\n",
      "Fold 2: mse: 5.342419925357699 r2: -6.6933334798618\n",
      "mean of mse: 5.3747992910453695\n",
      "mean of r2: -6.66754460889696\n",
      "===== Ridge mini zero 0.0001 =====\n",
      "Fold 0: mse: 88.68436920702372 r2: -128.16810115303304\n",
      "Fold 1: mse: 88.18735901590416 r2: -120.92802744532263\n",
      "Fold 2: mse: 88.29448209850499 r2: -126.14816594466897\n",
      "mean of mse: 88.38873677381095\n",
      "mean of r2: -125.08143151434155\n",
      "===== Ridge mini xavier 0.01 =====\n",
      "Fold 0: mse: 4.880866414536404 r2: -6.108944365106321\n",
      "Fold 1: mse: 4.780400353703933 r2: -5.609391550334626\n",
      "Fold 2: mse: 4.781883127847464 r2: -5.886134388208354\n",
      "mean of mse: 4.814383298695933\n",
      "mean of r2: -5.8681567678831\n",
      "===== Ridge mini xavier 0.001 =====\n",
      "Fold 0: mse: 5.416616698871137 r2: -6.889260530609749\n",
      "Fold 1: mse: 5.3141451916086115 r2: -6.347348282127721\n",
      "Fold 2: mse: 5.316372943052123 r2: -6.655824612378412\n",
      "mean of mse: 5.349044944510624\n",
      "mean of r2: -6.630811141705294\n",
      "===== Ridge mini xavier 0.0001 =====\n",
      "Fold 0: mse: 82.6584441231877 r2: -119.39138764952328\n",
      "Fold 1: mse: 82.30043384395205 r2: -112.78875236163529\n",
      "Fold 2: mse: 82.35095367365535 r2: -117.58920823294541\n",
      "mean of mse: 82.4366105469317\n",
      "mean of r2: -116.58978274803466\n",
      "===== Ridge mini xavier 0.01 =====\n",
      "Fold 0: mse: 4.882773851823588 r2: -6.111722532833702\n",
      "Fold 1: mse: 4.7775402222920675 r2: -5.6054371266487975\n",
      "Fold 2: mse: 4.7817637082382465 r2: -5.885962418409914\n",
      "mean of mse: 4.814025927451301\n",
      "mean of r2: -5.867707359297472\n",
      "===== Ridge mini xavier 0.001 =====\n",
      "Fold 0: mse: 5.442630530160226 r2: -6.927149475655781\n",
      "Fold 1: mse: 5.340374156142342 r2: -6.383612503476661\n",
      "Fold 2: mse: 5.341814013604255 r2: -6.692460938720568\n",
      "mean of mse: 5.374939566635608\n",
      "mean of r2: -6.667740972617669\n",
      "===== Ridge mini xavier 0.0001 =====\n",
      "Fold 0: mse: 88.56323024493275 r2: -127.99166318714512\n",
      "Fold 1: mse: 88.24653270945754 r2: -121.0098411180772\n",
      "Fold 2: mse: 88.42936622434671 r2: -126.3424053672038\n",
      "mean of mse: 88.41304305957901\n",
      "mean of r2: -125.11463655747538\n",
      "===== Ridge batch zero 0.01 =====\n",
      "Fold 0: mse: 65.8672876925901 r2: -94.93519754864066\n",
      "Fold 1: mse: 65.44308538314803 r2: -89.48174704113805\n",
      "Fold 2: mse: 65.52944850188325 r2: -93.36545743690554\n",
      "mean of mse: 65.61327385920713\n",
      "mean of r2: -92.59413400889476\n",
      "===== Ridge batch zero 0.001 =====\n",
      "Fold 0: mse: 153.63286223317596 r2: -222.76508134190118\n",
      "Fold 1: mse: 152.98326465092055 r2: -210.51498240999058\n",
      "Fold 2: mse: 153.1334141135889 r2: -219.51924748441328\n",
      "mean of mse: 153.24984699922848\n",
      "mean of r2: -217.59977041210166\n",
      "===== Ridge batch zero 0.0001 =====\n",
      "Fold 0: mse: 168.00294784057098 r2: -243.6950004235914\n",
      "Fold 1: mse: 167.3276503823063 r2: -230.34756019279138\n",
      "Fold 2: mse: 167.48503397727794 r2: -240.18624841848452\n",
      "mean of mse: 167.60521073338506\n",
      "mean of r2: -238.0762696782891\n",
      "===== Ridge batch zero 0.01 =====\n",
      "Fold 0: mse: 65.9252269742985 r2: -95.0195856664946\n",
      "Fold 1: mse: 65.50082156072158 r2: -89.5615732012854\n",
      "Fold 2: mse: 65.58724205834211 r2: -93.44868284955326\n",
      "mean of mse: 65.67109686445406\n",
      "mean of r2: -92.67661390577776\n",
      "===== Ridge batch zero 0.001 =====\n",
      "Fold 0: mse: 153.7820767299854 r2: -222.98241110801123\n",
      "Fold 1: mse: 153.13219997906813 r2: -210.72090070690524\n",
      "Fold 2: mse: 153.28242801829728 r2: -219.73383444651566\n",
      "mean of mse: 153.3989015757836\n",
      "mean of r2: -217.81238208714402\n",
      "===== Ridge batch zero 0.0001 =====\n",
      "Fold 0: mse: 168.16730082749456 r2: -243.93437928403284\n",
      "Fold 1: mse: 167.49172307153643 r2: -230.5744074368717\n",
      "Fold 2: mse: 167.64918553779077 r2: -240.42263430988007\n",
      "mean of mse: 167.76940314560727\n",
      "mean of r2: -238.31047367692818\n",
      "===== Ridge batch xavier 0.01 =====\n",
      "Fold 0: mse: 65.95603176681288 r2: -95.06445260968961\n",
      "Fold 1: mse: 65.30112061773521 r2: -89.28546625887307\n",
      "Fold 2: mse: 65.6531167383803 r2: -93.5435454564793\n",
      "mean of mse: 65.63675637430946\n",
      "mean of r2: -92.631154775014\n",
      "===== Ridge batch xavier 0.001 =====\n",
      "Fold 0: mse: 153.97840131347235 r2: -223.26835635276427\n",
      "Fold 1: mse: 152.64208643282774 r2: -210.04326869043288\n",
      "Fold 2: mse: 153.01402195595483 r2: -219.3473172175319\n",
      "mean of mse: 153.21150323408497\n",
      "mean of r2: -217.55298075357635\n",
      "===== Ridge batch xavier 0.0001 =====\n",
      "Fold 0: mse: 167.78049573004287 r2: -243.37100063680455\n",
      "Fold 1: mse: 167.68668466768491 r2: -230.8439617484107\n",
      "Fold 2: mse: 167.31118871859894 r2: -239.93590315031076\n",
      "mean of mse: 167.59278970544224\n",
      "mean of r2: -238.050288511842\n",
      "===== Ridge batch xavier 0.01 =====\n",
      "Fold 0: mse: 65.8563930842211 r2: -94.9193296354062\n",
      "Fold 1: mse: 65.46843558165986 r2: -89.51679627874292\n",
      "Fold 2: mse: 65.46545100091876 r2: -93.27329805526267\n",
      "mean of mse: 65.59675988893324\n",
      "mean of r2: -92.56980798980392\n",
      "===== Ridge batch xavier 0.001 =====\n",
      "Fold 0: mse: 153.41014830502178 r2: -222.44070021975716\n",
      "Fold 1: mse: 152.913763747476 r2: -210.41889031519122\n",
      "Fold 2: mse: 153.34133081044038 r2: -219.8186572102039\n",
      "mean of mse: 153.2217476209794\n",
      "mean of r2: -217.55941591505075\n",
      "===== Ridge batch xavier 0.0001 =====\n",
      "Fold 0: mse: 167.91568787035956 r2: -243.56790694861195\n",
      "Fold 1: mse: 167.84616592204046 r2: -231.06446086500827\n",
      "Fold 2: mse: 167.59528736718104 r2: -240.34501843425656\n",
      "mean of mse: 167.78571371986035\n",
      "mean of r2: -238.32579541595894\n",
      "===== Lasso sto zero 0.01 =====\n",
      "Fold 0: mse: 0.15425260257867238 r2: 0.7753322716149786\n",
      "Fold 1: mse: 0.14590033415062093 r2: 0.7982778921478936\n",
      "Fold 2: mse: 0.13558420387911718 r2: 0.8047524324898926\n",
      "mean of mse: 0.14524571353613683\n",
      "mean of r2: 0.7927875320842549\n",
      "===== Lasso sto zero 0.001 =====\n",
      "Fold 0: mse: 0.15018304852236372 r2: 0.7812595457749372\n",
      "Fold 1: mse: 0.1435300373664769 r2: 0.8015550694505787\n",
      "Fold 2: mse: 0.13651945236691726 r2: 0.8034056311145401\n",
      "mean of mse: 0.14341084608525262\n",
      "mean of r2: 0.7954067487800186\n",
      "===== Lasso sto zero 0.0001 =====\n",
      "Fold 0: mse: 0.15045844744055786 r2: 0.7808584293703124\n",
      "Fold 1: mse: 0.14526116045189263 r2: 0.7991616150436752\n",
      "Fold 2: mse: 0.13790820827917435 r2: 0.8014057579289053\n",
      "mean of mse: 0.14454260539054162\n",
      "mean of r2: 0.7938086007809643\n",
      "===== Lasso sto zero 0.01 =====\n",
      "Fold 0: mse: 0.15772026971935754 r2: 0.7702816411149469\n",
      "Fold 1: mse: 0.1363158093295063 r2: 0.8115294762579074\n",
      "Fold 2: mse: 0.14356250492579348 r2: 0.7932633074468622\n",
      "mean of mse: 0.14586619465821912\n",
      "mean of r2: 0.7916914749399054\n",
      "===== Lasso sto zero 0.001 =====\n",
      "Fold 0: mse: 0.14998227190679483 r2: 0.7815519753701505\n",
      "Fold 1: mse: 0.14751651656645423 r2: 0.7960433549517084\n",
      "Fold 2: mse: 0.13781362776568984 r2: 0.8015419582727756\n",
      "mean of mse: 0.14510413874631298\n",
      "mean of r2: 0.7930457628648782\n",
      "===== Lasso sto zero 0.0001 =====\n",
      "Fold 0: mse: 0.15043811812873262 r2: 0.7808880388565127\n",
      "Fold 1: mse: 0.14525452898238636 r2: 0.7991707837273163\n",
      "Fold 2: mse: 0.13795617857899398 r2: 0.8013366784632704\n",
      "mean of mse: 0.14454960856337098\n",
      "mean of r2: 0.7937985003490331\n",
      "===== Lasso sto xavier 0.01 =====\n",
      "Fold 0: mse: 0.15066264531689127 r2: 0.7805610167351287\n",
      "Fold 1: mse: 0.13994676426144817 r2: 0.8065093103573195\n",
      "Fold 2: mse: 0.13567496470128448 r2: 0.8046217326793956\n",
      "mean of mse: 0.14209479142654133\n",
      "mean of r2: 0.7972306865906146\n",
      "===== Lasso sto xavier 0.001 =====\n",
      "Fold 0: mse: 0.14804721278345426 r2: 0.7843703740892899\n",
      "Fold 1: mse: 0.14248570853263287 r2: 0.8029989606855109\n",
      "Fold 2: mse: 0.13810390143122156 r2: 0.8011239506768624\n",
      "mean of mse: 0.14287894091576955\n",
      "mean of r2: 0.7961644284838877\n",
      "===== Lasso sto xavier 0.0001 =====\n",
      "Fold 0: mse: 0.15048009270445475 r2: 0.7808269032100486\n",
      "Fold 1: mse: 0.1456549971273797 r2: 0.7986170956305346\n",
      "Fold 2: mse: 0.13790428704050076 r2: 0.8014114046952007\n",
      "mean of mse: 0.1446797922907784\n",
      "mean of r2: 0.7936184678452612\n",
      "===== Lasso sto xavier 0.01 =====\n",
      "Fold 0: mse: 0.1533241655112459 r2: 0.7766845330575742\n",
      "Fold 1: mse: 0.16024169447335865 r2: 0.7784494973014319\n",
      "Fold 2: mse: 0.12078280076562707 r2: 0.8260671422493131\n",
      "mean of mse: 0.14478288691674387\n",
      "mean of r2: 0.7937337242027732\n",
      "===== Lasso sto xavier 0.001 =====\n",
      "Fold 0: mse: 0.1506430605932065 r2: 0.7805895417344333\n",
      "Fold 1: mse: 0.14733419451398178 r2: 0.7962954338036643\n",
      "Fold 2: mse: 0.14108777735014405 r2: 0.7968270303996225\n",
      "mean of mse: 0.1463550108191108\n",
      "mean of r2: 0.7912373353125733\n",
      "===== Lasso sto xavier 0.0001 =====\n",
      "Fold 0: mse: 0.15052624660053027 r2: 0.7807596804156577\n",
      "Fold 1: mse: 0.1450996502365833 r2: 0.7993849194059408\n",
      "Fold 2: mse: 0.1382617153802636 r2: 0.8008966912411165\n",
      "mean of mse: 0.14462920407245908\n",
      "mean of r2: 0.7936804303542383\n",
      "===== Lasso mini zero 0.01 =====\n",
      "Fold 0: mse: 0.15023907979501758 r2: 0.7811779366575854\n",
      "Fold 1: mse: 0.1451884514222291 r2: 0.7992621427005102\n",
      "Fold 2: mse: 0.13835095779946066 r2: 0.8007681780016062\n",
      "mean of mse: 0.14459282967223577\n",
      "mean of r2: 0.7937360857865672\n",
      "===== Lasso mini zero 0.001 =====\n",
      "Fold 0: mse: 0.3139185692417737 r2: 0.5427800201072475\n",
      "Fold 1: mse: 0.29295026116780953 r2: 0.5949663547885431\n",
      "Fold 2: mse: 0.28861710355556897 r2: 0.5843779304757419\n",
      "mean of mse: 0.2984953113217174\n",
      "mean of r2: 0.5740414351238442\n",
      "===== Lasso mini zero 0.0001 =====\n",
      "Fold 0: mse: 80.8893346614817 r2: -116.8146933352525\n",
      "Fold 1: mse: 80.4025647204538 r2: -110.16475453292391\n",
      "Fold 2: mse: 80.50571936610805 r2: -114.93198490067567\n",
      "mean of mse: 80.59920624934784\n",
      "mean of r2: -113.97047758961736\n",
      "===== Lasso mini zero 0.01 =====\n",
      "Fold 0: mse: 0.15081421723145663 r2: 0.780340253408202\n",
      "Fold 1: mse: 0.14566531796316365 r2: 0.7986028260213438\n",
      "Fold 2: mse: 0.13806990718764153 r2: 0.8011729039706714\n",
      "mean of mse: 0.1448498141274206\n",
      "mean of r2: 0.7933719944667391\n",
      "===== Lasso mini zero 0.001 =====\n",
      "Fold 0: mse: 0.3238453926256775 r2: 0.5283216782546132\n",
      "Fold 1: mse: 0.30232636978759314 r2: 0.5820029273553988\n",
      "Fold 2: mse: 0.2981084057019235 r2: 0.570710013391305\n",
      "mean of mse: 0.3080933893717314\n",
      "mean of r2: 0.560344873000439\n",
      "===== Lasso mini zero 0.0001 =====\n",
      "Fold 0: mse: 87.09351855714792 r2: -125.8510394261481\n",
      "Fold 1: mse: 86.58997233580489 r2: -118.71947727276546\n",
      "Fold 2: mse: 86.69714395529734 r2: -123.84792463314815\n",
      "mean of mse: 86.79354494941673\n",
      "mean of r2: -122.80614711068723\n",
      "===== Lasso mini xavier 0.01 =====\n",
      "Fold 0: mse: 0.15047491450372685 r2: 0.7808344452195526\n",
      "Fold 1: mse: 0.14556561276147248 r2: 0.7987406786422172\n",
      "Fold 2: mse: 0.138002545709394 r2: 0.8012699076362565\n",
      "mean of mse: 0.14468102432486443\n",
      "mean of r2: 0.7936150104993421\n",
      "===== Lasso mini xavier 0.001 =====\n",
      "Fold 0: mse: 0.31376839633572856 r2: 0.5429987457890325\n",
      "Fold 1: mse: 0.2927710364433997 r2: 0.5952141512682265\n",
      "Fold 2: mse: 0.2883378319463813 r2: 0.5847800945981728\n",
      "mean of mse: 0.29829242157516983\n",
      "mean of r2: 0.5743309972184772\n",
      "===== Lasso mini xavier 0.0001 =====\n",
      "Fold 0: mse: 81.03779083986778 r2: -117.03091861641565\n",
      "Fold 1: mse: 80.27805999142753 r2: -109.992614033569\n",
      "Fold 2: mse: 80.42166056767206 r2: -114.81093631645355\n",
      "mean of mse: 80.57917046632245\n",
      "mean of r2: -113.94482298881273\n",
      "===== Lasso mini xavier 0.01 =====\n",
      "Fold 0: mse: 0.1502722652533843 r2: 0.7811296022929002\n",
      "Fold 1: mse: 0.144829775427 r2: 0.7997580488834177\n",
      "Fold 2: mse: 0.13748777014233482 r2: 0.8020112084250383\n",
      "mean of mse: 0.14419660360757305\n",
      "mean of r2: 0.7942996198671187\n",
      "===== Lasso mini xavier 0.001 =====\n",
      "Fold 0: mse: 0.32373268625787566 r2: 0.5284858342118242\n",
      "Fold 1: mse: 0.30204967136499117 r2: 0.5823854911745399\n",
      "Fold 2: mse: 0.29803376970816686 r2: 0.570817492697985\n",
      "mean of mse: 0.30793870911034454\n",
      "mean of r2: 0.5605629393614496\n",
      "===== Lasso mini xavier 0.0001 =====\n",
      "Fold 0: mse: 86.98148239493078 r2: -125.68785961821287\n",
      "Fold 1: mse: 86.60364508752944 r2: -118.73838124796244\n",
      "Fold 2: mse: 86.87638779339294 r2: -124.1060441070844\n",
      "mean of mse: 86.82050509195106\n",
      "mean of r2: -122.84409499108658\n",
      "===== Lasso batch zero 0.01 =====\n",
      "Fold 0: mse: 62.92820747368594 r2: -90.65444983168871\n",
      "Fold 1: mse: 62.49911813151851 r2: -85.41141174750395\n",
      "Fold 2: mse: 62.586424357243864 r2: -89.12736561703052\n",
      "mean of mse: 62.671249987482774\n",
      "mean of r2: -88.39774239874106\n",
      "===== Lasso batch zero 0.001 =====\n",
      "Fold 0: mse: 153.6861900463891 r2: -222.84275289138594\n",
      "Fold 1: mse: 153.0345489190495 r2: -210.58588814661454\n",
      "Fold 2: mse: 153.18484312273517 r2: -219.59330765254475\n",
      "mean of mse: 153.30186069605793\n",
      "mean of r2: -217.67398289684843\n",
      "===== Lasso batch zero 0.0001 =====\n",
      "Fold 0: mse: 168.01597068775698 r2: -243.71396810028187\n",
      "Fold 1: mse: 167.34046089062437 r2: -230.365272028447\n",
      "Fold 2: mse: 167.49786295418062 r2: -240.20472274264785\n",
      "mean of mse: 167.61809817752066\n",
      "mean of r2: -238.09465429045892\n",
      "===== Lasso batch zero 0.01 =====\n",
      "Fold 0: mse: 62.990092955396314 r2: -90.74458555947191\n",
      "Fold 1: mse: 62.56079005040571 r2: -85.49667947184219\n",
      "Fold 2: mse: 62.64815493520631 r2: -89.21626052398373\n",
      "mean of mse: 62.733012647002774\n",
      "mean of r2: -88.48584185176594\n",
      "===== Lasso batch zero 0.001 =====\n",
      "Fold 0: mse: 153.83562406779473 r2: -223.06040239338066\n",
      "Fold 1: mse: 153.18372221488977 r2: -210.79213545815995\n",
      "Fold 2: mse: 153.3340939762595 r2: -219.80823583197645\n",
      "mean of mse: 153.45114675298134\n",
      "mean of r2: -217.88692456117235\n",
      "===== Lasso batch zero 0.0001 =====\n",
      "Fold 0: mse: 168.1791346942479 r2: -243.95161521987467\n",
      "Fold 1: mse: 167.50335680171662 r2: -230.590492256607\n",
      "Fold 2: mse: 167.66083596398596 r2: -240.43941146614154\n",
      "mean of mse: 167.78110915331683\n",
      "mean of r2: -238.3271729808744\n",
      "===== Lasso batch xavier 0.01 =====\n",
      "Fold 0: mse: 62.79234021238419 r2: -90.45656021136293\n",
      "Fold 1: mse: 62.44267645800886 r2: -85.33337537138907\n",
      "Fold 2: mse: 62.63594601292309 r2: -89.1986791073473\n",
      "mean of mse: 62.62365422777205\n",
      "mean of r2: -88.3295382300331\n",
      "===== Lasso batch xavier 0.001 =====\n",
      "Fold 0: mse: 153.54594130079727 r2: -222.6384816729156\n",
      "Fold 1: mse: 152.68991744975324 r2: -210.10939995470372\n",
      "Fold 2: mse: 153.15773237041984 r2: -219.55426690670936\n",
      "mean of mse: 153.13119704032343\n",
      "mean of r2: -217.4340495114429\n",
      "===== Lasso batch xavier 0.0001 =====\n",
      "Fold 0: mse: 168.11600577421112 r2: -243.85966843373973\n",
      "Fold 1: mse: 167.48596150580033 r2: -230.56644148400682\n",
      "Fold 2: mse: 167.3608390709735 r2: -240.00740196986203\n",
      "mean of mse: 167.65426878366165\n",
      "mean of r2: -238.1445039625362\n",
      "===== Lasso batch xavier 0.01 =====\n",
      "Fold 0: mse: 63.024213623282684 r2: -90.79428204962417\n",
      "Fold 1: mse: 62.52763705607575 r2: -85.4508420723819\n",
      "Fold 2: mse: 62.733085277072036 r2: -89.33856417133096\n",
      "mean of mse: 62.76164531881016\n",
      "mean of r2: -88.52789609777902\n",
      "===== Lasso batch xavier 0.001 =====\n",
      "Fold 0: mse: 153.55620289720494 r2: -222.65342760910062\n",
      "Fold 1: mse: 153.1922455860291 r2: -210.80391988896497\n",
      "Fold 2: mse: 153.11271583671245 r2: -219.48944100182786\n",
      "mean of mse: 153.2870547733155\n",
      "mean of r2: -217.6489294999645\n",
      "===== Lasso batch xavier 0.0001 =====\n",
      "Fold 0: mse: 167.85585832100406 r2: -243.4807656704793\n",
      "Fold 1: mse: 167.7674300667765 r2: -230.95560050646384\n",
      "Fold 2: mse: 167.44725603918377 r2: -240.13184642837504\n",
      "mean of mse: 167.69018147565478\n",
      "mean of r2: -238.18940420177273\n",
      "===== Normal sto zero 0.01 =====\n",
      "Fold 0: mse: 0.1279357939312627 r2: 0.8136625008514111\n",
      "Fold 1: mse: 0.1222877212967348 r2: 0.8309247401795393\n",
      "Fold 2: mse: 0.11033748353842988 r2: 0.841108885477012\n",
      "mean of mse: 0.12018699958880913\n",
      "mean of r2: 0.8285653755026541\n",
      "===== Normal sto zero 0.001 =====\n",
      "Fold 0: mse: 0.1274518283738396 r2: 0.8143673929607509\n",
      "Fold 1: mse: 0.11827949874059168 r2: 0.8364665170882257\n",
      "Fold 2: mse: 0.10992622418061004 r2: 0.8417011181039166\n",
      "mean of mse: 0.11855251709834709\n",
      "mean of r2: 0.8308450093842977\n",
      "===== Normal sto zero 0.0001 =====\n",
      "Fold 0: mse: 0.12731599819597458 r2: 0.8145652285693366\n",
      "Fold 1: mse: 0.11815605582674292 r2: 0.8366371895196902\n",
      "Fold 2: mse: 0.10967902472094296 r2: 0.8420570968374927\n",
      "mean of mse: 0.11838369291455349\n",
      "mean of r2: 0.8310865049755064\n",
      "===== Normal sto zero 0.01 =====\n",
      "Fold 0: mse: 0.12682498096857153 r2: 0.8152803913817259\n",
      "Fold 1: mse: 0.1234354168587368 r2: 0.829337933889565\n",
      "Fold 2: mse: 0.1339084506145975 r2: 0.8071655952277607\n",
      "mean of mse: 0.1280562828139686\n",
      "mean of r2: 0.8172613068330171\n",
      "===== Normal sto zero 0.001 =====\n",
      "Fold 0: mse: 0.12785159530562834 r2: 0.8137851355015769\n",
      "Fold 1: mse: 0.11838362849781253 r2: 0.8363225470676017\n",
      "Fold 2: mse: 0.10999028485131467 r2: 0.8416088677549063\n",
      "mean of mse: 0.11874183621825185\n",
      "mean of r2: 0.8305721834413617\n",
      "===== Normal sto zero 0.0001 =====\n",
      "Fold 0: mse: 0.1273654769684299 r2: 0.8144931631180898\n",
      "Fold 1: mse: 0.11822837403907296 r2: 0.8365372022077198\n",
      "Fold 2: mse: 0.10960307771758916 r2: 0.842166464059044\n",
      "mean of mse: 0.11839897624169733\n",
      "mean of r2: 0.8310656097949511\n",
      "===== Normal sto xavier 0.01 =====\n",
      "Fold 0: mse: 0.12679202566100886 r2: 0.8153283905335365\n",
      "Fold 1: mse: 0.1203284396131654 r2: 0.8336336471425462\n",
      "Fold 2: mse: 0.11465869943023647 r2: 0.8348861333611868\n",
      "mean of mse: 0.12059305490147025\n",
      "mean of r2: 0.8279493903457565\n",
      "===== Normal sto xavier 0.001 =====\n",
      "Fold 0: mse: 0.12800123186573203 r2: 0.8135671910035274\n",
      "Fold 1: mse: 0.1183273812399921 r2: 0.8364003146441771\n",
      "Fold 2: mse: 0.10922216289616972 r2: 0.842714999140439\n",
      "mean of mse: 0.11851692533396462\n",
      "mean of r2: 0.8308941682627143\n",
      "===== Normal sto xavier 0.0001 =====\n",
      "Fold 0: mse: 0.12725380012754395 r2: 0.8146558195772718\n",
      "Fold 1: mse: 0.11824951779603816 r2: 0.8365079688050154\n",
      "Fold 2: mse: 0.10963660003765964 r2: 0.8421181903570656\n",
      "mean of mse: 0.11837997265374724\n",
      "mean of r2: 0.8310939929131177\n",
      "===== Normal sto xavier 0.01 =====\n",
      "Fold 0: mse: 0.1279504983544769 r2: 0.8136410839721785\n",
      "Fold 1: mse: 0.12342628803101427 r2: 0.8293505554259113\n",
      "Fold 2: mse: 0.1128799618521505 r2: 0.8374475983063934\n",
      "mean of mse: 0.12141891607921389\n",
      "mean of r2: 0.8268130792348277\n",
      "===== Normal sto xavier 0.001 =====\n",
      "Fold 0: mse: 0.1274755859398894 r2: 0.8143327902486596\n",
      "Fold 1: mse: 0.11814077631405341 r2: 0.8366583150059658\n",
      "Fold 2: mse: 0.10930820435322906 r2: 0.8425910954354702\n",
      "mean of mse: 0.11830818886905729\n",
      "mean of r2: 0.8311940668966985\n",
      "===== Normal sto xavier 0.0001 =====\n",
      "Fold 0: mse: 0.12727492548054095 r2: 0.814625050663232\n",
      "Fold 1: mse: 0.1181518271456501 r2: 0.8366430361030339\n",
      "Fold 2: mse: 0.10965296980605094 r2: 0.8420946171282699\n",
      "mean of mse: 0.118359907477414\n",
      "mean of r2: 0.8311209012981786\n",
      "===== Normal mini zero 0.01 =====\n",
      "Fold 0: mse: 0.1274216387752451 r2: 0.8144113638787367\n",
      "Fold 1: mse: 0.1183201074260506 r2: 0.836410371434581\n",
      "Fold 2: mse: 0.10970175204478383 r2: 0.8420243684327893\n",
      "mean of mse: 0.11848116608202651\n",
      "mean of r2: 0.8309487012487023\n",
      "===== Normal mini zero 0.001 =====\n",
      "Fold 0: mse: 0.22746735259128323 r2: 0.668695551750099\n",
      "Fold 1: mse: 0.20747154284479305 r2: 0.7131494099336704\n",
      "Fold 2: mse: 0.1994374466131262 r2: 0.712800789416758\n",
      "mean of mse: 0.21145878068306748\n",
      "mean of r2: 0.6982152503668425\n",
      "===== Normal mini zero 0.0001 =====\n",
      "Fold 0: mse: 80.27812154381043 r2: -115.92446613382621\n",
      "Fold 1: mse: 79.80555468930734 r2: -109.33932721232992\n",
      "Fold 2: mse: 79.90554355747167 r2: -114.06770378707971\n",
      "mean of mse: 79.99640659686315\n",
      "mean of r2: -113.11049904441195\n",
      "===== Normal mini zero 0.01 =====\n",
      "Fold 0: mse: 0.1272895039137838 r2: 0.8146038172874228\n",
      "Fold 1: mse: 0.11828696012803756 r2: 0.8364562009583015\n",
      "Fold 2: mse: 0.10965041219739359 r2: 0.84209830020384\n",
      "mean of mse: 0.11840895874640499\n",
      "mean of r2: 0.8310527728165215\n",
      "===== Normal mini zero 0.001 =====\n",
      "Fold 0: mse: 0.23500339106238521 r2: 0.6577193697212669\n",
      "Fold 1: mse: 0.21462729232005445 r2: 0.7032558557083515\n",
      "Fold 2: mse: 0.20656664594756272 r2: 0.7025344103805655\n",
      "mean of mse: 0.2187324431100008\n",
      "mean of r2: 0.6878365452700613\n",
      "===== Normal mini zero 0.0001 =====\n",
      "Fold 0: mse: 86.51188132573627 r2: -125.00388927541556\n",
      "Fold 1: mse: 86.02110886269533 r2: -117.93296544231778\n",
      "Fold 2: mse: 86.12622883919329 r2: -123.02578027941911\n",
      "mean of mse: 86.21973967587496\n",
      "mean of r2: -121.98754499905083\n",
      "===== Normal mini xavier 0.01 =====\n",
      "Fold 0: mse: 0.12731819505582662 r2: 0.8145620288598712\n",
      "Fold 1: mse: 0.1182704114549284 r2: 0.8364790811884337\n",
      "Fold 2: mse: 0.1096964509645457 r2: 0.8420320022351945\n",
      "mean of mse: 0.1184283524917669\n",
      "mean of r2: 0.8310243707611664\n",
      "===== Normal mini xavier 0.001 =====\n",
      "Fold 0: mse: 0.2275499832989756 r2: 0.6685752007603475\n",
      "Fold 1: mse: 0.20741609074318954 r2: 0.7132260781255935\n",
      "Fold 2: mse: 0.199419905213024 r2: 0.712826049849778\n",
      "mean of mse: 0.21146199308506305\n",
      "mean of r2: 0.6982091095785729\n",
      "===== Normal mini xavier 0.0001 =====\n",
      "Fold 0: mse: 80.1832383796609 r2: -115.7862695355511\n",
      "Fold 1: mse: 79.92290277244534 r2: -109.50157291807697\n",
      "Fold 2: mse: 79.8054181264421 r2: -113.92351850372728\n",
      "mean of mse: 79.97051975951612\n",
      "mean of r2: -113.07045365245177\n",
      "===== Normal mini xavier 0.01 =====\n",
      "Fold 0: mse: 0.12727004899812924 r2: 0.8146321532223306\n",
      "Fold 1: mse: 0.11826670659002955 r2: 0.8364842035424095\n",
      "Fold 2: mse: 0.10962707573369129 r2: 0.8421319057983105\n",
      "mean of mse: 0.11838794377395002\n",
      "mean of r2: 0.8310827541876836\n",
      "===== Normal mini xavier 0.001 =====\n",
      "Fold 0: mse: 0.23489925566530206 r2: 0.6578710421255961\n",
      "Fold 1: mse: 0.2145062717665846 r2: 0.703423178979278\n",
      "Fold 2: mse: 0.20636503479914217 r2: 0.702824739822977\n",
      "mean of mse: 0.21859018741034295\n",
      "mean of r2: 0.6880396536426169\n",
      "===== Normal mini xavier 0.0001 =====\n",
      "Fold 0: mse: 86.49290613115409 r2: -124.97625205055728\n",
      "Fold 1: mse: 86.14534147359338 r2: -118.10472971057816\n",
      "Fold 2: mse: 86.27963271949794 r2: -123.24668901081381\n",
      "mean of mse: 86.3059601080818\n",
      "mean of r2: -122.10922359064973\n",
      "===== Normal batch zero 0.01 =====\n",
      "Fold 0: mse: 62.25841813315541 r2: -89.67890681252476\n",
      "Fold 1: mse: 61.84640975171568 r2: -84.50897577329548\n",
      "Fold 2: mse: 61.92954413228976 r2: -88.1814275033095\n",
      "mean of mse: 62.01145733905363\n",
      "mean of r2: -87.45643669637657\n",
      "===== Normal batch zero 0.001 =====\n",
      "Fold 0: mse: 153.55660619571677 r2: -222.65401501027893\n",
      "Fold 1: mse: 152.9071499095605 r2: -210.40974600902447\n",
      "Fold 2: mse: 153.0572599176994 r2: -219.4095818959619\n",
      "mean of mse: 153.1736720076589\n",
      "mean of r2: -217.49111430508844\n",
      "===== Normal batch zero 0.0001 =====\n",
      "Fold 0: mse: 168.00212466175725 r2: -243.69380146998512\n",
      "Fold 1: mse: 167.3268286065347 r2: -230.34642400388682\n",
      "Fold 2: mse: 167.48421180703656 r2: -240.18506445504988\n",
      "mean of mse: 167.60438835844283\n",
      "mean of r2: -238.07509664297393\n",
      "===== Normal batch zero 0.01 =====\n",
      "Fold 0: mse: 62.320484981294925 r2: -89.76930669911604\n",
      "Fold 1: mse: 61.90825333146677 r2: -84.59448083630396\n",
      "Fold 2: mse: 61.9914501938518 r2: -88.27057511481809\n",
      "mean of mse: 62.07339616887116\n",
      "mean of r2: -87.54478755007936\n",
      "===== Normal batch zero 0.001 =====\n",
      "Fold 0: mse: 153.7072176099999 r2: -222.87337937593747\n",
      "Fold 1: mse: 153.05747944765145 r2: -210.61759194352953\n",
      "Fold 2: mse: 153.20766878521349 r2: -219.62617766946556\n",
      "mean of mse: 153.32412194762162\n",
      "mean of r2: -217.70571632964416\n",
      "===== Normal batch zero 0.0001 =====\n",
      "Fold 0: mse: 168.16662757638014 r2: -243.93339869896667\n",
      "Fold 1: mse: 167.4910509668579 r2: -230.57347818353418\n",
      "Fold 2: mse: 167.6485131107579 r2: -240.42166598363892\n",
      "mean of mse: 167.76873055133197\n",
      "mean of r2: -238.30951428871325\n",
      "===== Normal batch xavier 0.01 =====\n",
      "Fold 0: mse: 62.30707740946381 r2: -89.74977867394111\n",
      "Fold 1: mse: 61.99612509400717 r2: -84.71597251940065\n",
      "Fold 2: mse: 61.842700316688 r2: -88.05636836467518\n",
      "mean of mse: 62.04863427338632\n",
      "mean of r2: -87.50737318600564\n",
      "===== Normal batch xavier 0.001 =====\n",
      "Fold 0: mse: 153.58722259862893 r2: -222.69860756546834\n",
      "Fold 1: mse: 152.79015038068772 r2: -210.24798221513518\n",
      "Fold 2: mse: 153.36689848691145 r2: -219.8554758549651\n",
      "mean of mse: 153.2480904887427\n",
      "mean of r2: -217.60068854518954\n",
      "===== Normal batch xavier 0.0001 =====\n",
      "Fold 0: mse: 168.0037608206331 r2: -243.6961845227944\n",
      "Fold 1: mse: 167.32539123753313 r2: -230.34443669449206\n",
      "Fold 2: mse: 167.24860683371608 r2: -239.84578232174826\n",
      "mean of mse: 167.5259196306274\n",
      "mean of r2: -237.9621345130116\n",
      "===== Normal batch xavier 0.01 =====\n",
      "Fold 0: mse: 62.21310362029265 r2: -89.61290657332258\n",
      "Fold 1: mse: 61.892444412230184 r2: -84.57262339142673\n",
      "Fold 2: mse: 62.046124295081235 r2: -88.34930836666774\n",
      "mean of mse: 62.05055744253469\n",
      "mean of r2: -87.51161277713902\n",
      "===== Normal batch xavier 0.001 =====\n",
      "Fold 0: mse: 153.60441935673504 r2: -222.72365451128772\n",
      "Fold 1: mse: 153.0726331748139 r2: -210.63854351847158\n",
      "Fold 2: mse: 153.49135531827136 r2: -220.03469948786488\n",
      "mean of mse: 153.38946928327343\n",
      "mean of r2: -217.79896583920808\n",
      "===== Normal batch xavier 0.0001 =====\n",
      "Fold 0: mse: 168.2928221831247 r2: -244.11720017237963\n",
      "Fold 1: mse: 167.07317980852173 r2: -229.99572864402217\n",
      "Fold 2: mse: 167.68231259404527 r2: -240.47033881355682\n",
      "mean of mse: 167.6827715285639\n",
      "mean of r2: -238.19442254331955\n"
     ]
    }
   ],
   "source": [
    "# Model\n",
    "regs = [\"Ridge\", \"Lasso\", \"Normal\"]\n",
    "methods = [\"sto\",\"mini\", \"batch\"]\n",
    "initweight = [\"zero\", \"xavier\"]\n",
    "momentums = [0, 0.00001]\n",
    "lrs = [0.01,0.001,0.0001]\n",
    "for reg in regs:\n",
    "    for method in methods:\n",
    "        for theta in initweight:\n",
    "            for momentum in momentums:\n",
    "                for lr in lrs:\n",
    "                    params = {\"method\": method,\"initweight\":theta,\"momentum\":momentum, \"lr\": lr, \"l\": 0.1}\n",
    "                    mlflow.start_run(run_name=f\"method-{params['method']}-theta-{params['initweight']}-momentum-{params['momentum']}-lr-{params['lr']}-reg-{reg}\", nested=True)\n",
    "    \n",
    "                    print(\"=\"*5, reg,method,theta,lr,\"=\"*5)\n",
    "\n",
    "                    # #######\n",
    "                    type_of_regression = str_to_class(reg)    #Ridge, Lasso, Normal\n",
    "                    model = type_of_regression(**params)  \n",
    "                    model.fit(X_train, y_train)\n",
    "\n",
    "                    signature = mlflow.models.infer_signature(X_train, model.predict(X_train))\n",
    "                    mlflow.sklearn.log_model(model, artifact_path='model', signature=signature)\n",
    "\n",
    "                    # #######\n",
    "\n",
    "                    mlflow.end_run()"
   ]
  },
  {
   "cell_type": "markdown",
   "metadata": {},
   "source": [
    "This is the screenshot in ML flow,sorted by mean mse"
   ]
  },
  {
   "cell_type": "code",
   "execution_count": 2,
   "metadata": {},
   "outputs": [
    {
     "data": {
      "image/png": "[encoded data removed]",
      "text/plain": [
       "<IPython.core.display.Image object>"
      ]
     },
     "execution_count": 2,
     "metadata": {},
     "output_type": "execute_result"
    }
   ],
   "source": [
    "# Display the image\n",
    "from IPython.display import Image\n",
    "Image(filename='image1.png')\n"
   ]
  },
  {
   "cell_type": "markdown",
   "metadata": {},
   "source": [
    "I selected the first model since it has least mean of mse."
   ]
  },
  {
   "cell_type": "markdown",
   "metadata": {},
   "source": [
    "## Testing\n",
    "\n"
   ]
  },
  {
   "cell_type": "markdown",
   "metadata": {},
   "source": [
    "After I obtain the best model, I test performance of the model with test dataset."
   ]
  },
  {
   "cell_type": "code",
   "execution_count": 48,
   "metadata": {},
   "outputs": [
    {
     "name": "stdout",
     "output_type": "stream",
     "text": [
      "Test MSE:  0.11394976609125396\n",
      "Test R2:  0.8380444886455385\n"
     ]
    }
   ],
   "source": [
    "model = mlflow.pyfunc.load_model('runs:/c9d107e58e6a4c13ba6749dcda021f02/model/')\n",
    "\n",
    "yhat = model.predict(X_test)\n",
    "mse  = ((yhat - y_test) ** 2).sum() / y_test.shape[0]\n",
    "r2 = 1-(((yhat - y_test) ** 2).sum() / (((y_test.sum()/y_test.shape[0])- y_test) ** 2).sum())\n",
    "\n",
    "\n",
    "print(\"Test MSE: \", mse)\n",
    "print(\"Test R2: \", r2)"
   ]
  },
  {
   "cell_type": "markdown",
   "metadata": {},
   "source": [
    "## Analysis:  Feature Importance\n"
   ]
  },
  {
   "cell_type": "code",
   "execution_count": 54,
   "metadata": {},
   "outputs": [
    {
     "data": {
      "image/png": "[encoded data removed]",
      "text/plain": [
       "<Figure size 900x700 with 1 Axes>"
      ]
     },
     "metadata": {},
     "output_type": "display_data"
    }
   ],
   "source": [
    "def feature_importance(theta):\n",
    "        coefs = pd.DataFrame(\n",
    "        theta, columns=[\"Coefficients\"], index=['max_power', 'mileage',  'year']\n",
    "        )\n",
    "\n",
    "        coefs.plot(kind=\"barh\", figsize=(9, 7))\n",
    "        plt.title(\"Feature Importance\")\n",
    "        plt.axvline(x=0, color=\".5\")\n",
    "        plt.subplots_adjust(left=0.3)\n",
    "\n",
    "        \n",
    "run = mlflow.get_run(run_id=\"c9d107e58e6a4c13ba6749dcda021f02\")\n",
    "thetas = list()\n",
    "\n",
    "for i in range(X_train.shape[1]-1):\n",
    "        thetas.append(run.data.metrics[f'weight-{i}'])\n",
    "feature_importance(thetas)"
   ]
  },
  {
   "cell_type": "markdown",
   "metadata": {},
   "source": [
    "According to graph, significant features are max power and year."
   ]
  },
  {
   "cell_type": "markdown",
   "metadata": {},
   "source": [
    "## Summary"
   ]
  },
  {
   "cell_type": "markdown",
   "metadata": {},
   "source": [
    "In this project, I used ML flow to compare different of each model. The best peeformance model is Normal model with momentum, batch, xavier with learning rate =0.001."
   ]
  }
 ],
 "metadata": {
  "kernelspec": {
   "display_name": "Python 3",
   "language": "python",
   "name": "python3"
  },
  "language_info": {
   "codemirror_mode": {
    "name": "ipython",
    "version": 3
   },
   "file_extension": ".py",
   "mimetype": "text/x-python",
   "name": "python",
   "nbconvert_exporter": "python",
   "pygments_lexer": "ipython3",
   "version": "3.10.12"
  },
  "orig_nbformat": 4
 },
 "nbformat": 4,
 "nbformat_minor": 2
}
